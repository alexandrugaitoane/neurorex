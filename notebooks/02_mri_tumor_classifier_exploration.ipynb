{
 "cells": [
  {
   "cell_type": "code",
   "execution_count": 180,
   "id": "feb312dd",
   "metadata": {},
   "outputs": [],
   "source": [
    "import tensorflow as tf\n",
    "from tensorflow import keras\n",
    "import os\n",
    "import sys\n",
    "import matplotlib.pyplot as plt\n",
    "\n",
    "project_root = os.path.abspath('..')\n",
    "if project_root not in sys.path:\n",
    "    sys.path.insert(0, project_root)"
   ]
  },
  {
   "cell_type": "code",
   "execution_count": 181,
   "id": "9ed06940",
   "metadata": {},
   "outputs": [],
   "source": [
    "glioma_path = '/Users/alex/Desktop/NeuroRex/data/mri_tumor_classifier/glioma'\n",
    "meningioma_path = '/Users/alex/Desktop/NeuroRex/data/mri_tumor_classifier/meningioma'\n",
    "pituitary_path = '/Users/alex/Desktop/NeuroRex/data/mri_tumor_classifier/pituitary'\n",
    "notumor_path = '/Users/alex/Desktop/NeuroRex/data/mri_tumor_classifier/notumor'"
   ]
  },
  {
   "cell_type": "code",
   "execution_count": 182,
   "id": "4336346c",
   "metadata": {},
   "outputs": [],
   "source": [
    "def decode_image(file_path, image_data):\n",
    "    ext = tf.strings.lower(tf.strings.split(file_path, '.')[-1])\n",
    "    \n",
    "    def decode_jpg():\n",
    "        return tf.image.decode_jpeg(image_data, channels=3)\n",
    "    \n",
    "    def decode_png():\n",
    "        return tf.image.decode_png(image_data, channels=3)\n",
    "    \n",
    "    return tf.case([\n",
    "        (tf.equal(ext, 'jpeg'), decode_jpg),\n",
    "        (tf.equal(ext, 'jpg'), decode_jpg),\n",
    "        (tf.equal(ext, 'png'), decode_png),\n",
    "    ], exclusive=True, default=decode_jpg)"
   ]
  },
  {
   "cell_type": "code",
   "execution_count": 183,
   "id": "ba369b4d",
   "metadata": {},
   "outputs": [],
   "source": [
    "IMG_SIZE = (224, 224)\n",
    "\n",
    "def process_path(file_path, label):\n",
    "    image_data = tf.io.read_file(file_path)\n",
    "    image = decode_image(file_path, image_data)\n",
    "    image = tf.image.resize(image, IMG_SIZE)\n",
    "    image = tf.cast(image, tf.float32)/255.0\n",
    "    \n",
    "    return image, label"
   ]
  },
  {
   "cell_type": "code",
   "execution_count": 184,
   "id": "b2733a5b",
   "metadata": {},
   "outputs": [],
   "source": [
    "CLASS_LABELS = {\n",
    "    'glioma':0,\n",
    "    'meningioma':1,\n",
    "    'pituitary':2,\n",
    "    'notumor':3\n",
    "}\n",
    "glioma_files = [os.path.join(glioma_path, f) for f in os.listdir(glioma_path) if f.lower().endswith(('.jpg','.jpeg','.png'))]\n",
    "meningioma_files = [os.path.join(meningioma_path, f) for f in os.listdir(meningioma_path) if f.lower().endswith(('.jpg','.jpeg','.png'))]\n",
    "pituitary_files = [os.path.join(pituitary_path, f) for f in os.listdir(pituitary_path) if f.lower().endswith(('.jpg','.jpeg','.png'))]\n",
    "notumor_files = [os.path.join(notumor_path, f) for f in os.listdir(notumor_path) if f.lower().endswith(('.jpg','.jpeg','.png'))]"
   ]
  },
  {
   "cell_type": "code",
   "execution_count": 185,
   "id": "2526fdfc",
   "metadata": {},
   "outputs": [],
   "source": [
    "all_files = glioma_files+meningioma_files+pituitary_files+notumor_files\n",
    "all_labels = len(glioma_files)*[0]+len(meningioma_files)*[1]+len(pituitary_files)*[2]+len(notumor_files)*[3]"
   ]
  },
  {
   "cell_type": "code",
   "execution_count": 186,
   "id": "d78498ca",
   "metadata": {},
   "outputs": [],
   "source": [
    "from sklearn.model_selection import train_test_split\n",
    "\n",
    "train_data, temp_data, train_labels, temp_labels = train_test_split(all_files, all_labels, test_size=0.2, random_state=42, stratify=all_labels)\n",
    "val_data, test_data, val_labels, test_labels = train_test_split(temp_data, temp_labels, test_size=0.5, random_state=42, stratify=temp_labels)"
   ]
  },
  {
   "cell_type": "code",
   "execution_count": 187,
   "id": "e8ef2523",
   "metadata": {},
   "outputs": [],
   "source": [
    "def make_dataset(data, labels, shuffle=True, batch_size=32):\n",
    "    dataset = tf.data.Dataset.from_tensor_slices((data, labels))\n",
    "    dataset = dataset.map(process_path, num_parallel_calls=tf.data.AUTOTUNE)\n",
    "    if shuffle:\n",
    "        dataset = dataset.shuffle(1000)\n",
    "    dataset = dataset.batch(batch_size).prefetch(tf.data.AUTOTUNE)\n",
    "    return dataset"
   ]
  },
  {
   "cell_type": "code",
   "execution_count": 188,
   "id": "5a309b43",
   "metadata": {},
   "outputs": [],
   "source": [
    "train_ds = make_dataset(train_data, train_labels)\n",
    "val_ds = make_dataset(val_data, val_labels, shuffle=False)\n",
    "test_ds = make_dataset(test_data, test_labels, shuffle=False)"
   ]
  },
  {
   "cell_type": "code",
   "execution_count": 189,
   "id": "82f6b337",
   "metadata": {},
   "outputs": [
    {
     "name": "stdout",
     "output_type": "stream",
     "text": [
      "Model: \"model_13\"\n",
      "_________________________________________________________________\n",
      " Layer (type)                Output Shape              Param #   \n",
      "=================================================================\n",
      " input_28 (InputLayer)       [(None, 224, 224, 3)]     0         \n",
      "                                                                 \n",
      " mobilenetv2_1.00_224 (Func  (None, 7, 7, 1280)        2257984   \n",
      " tional)                                                         \n",
      "                                                                 \n",
      " global_average_pooling2d_1  (None, 1280)              0         \n",
      " 3 (GlobalAveragePooling2D)                                      \n",
      "                                                                 \n",
      " dropout_13 (Dropout)        (None, 1280)              0         \n",
      "                                                                 \n",
      " dense_26 (Dense)            (None, 128)               163968    \n",
      "                                                                 \n",
      " dense_27 (Dense)            (None, 4)                 516       \n",
      "                                                                 \n",
      "=================================================================\n",
      "Total params: 2422468 (9.24 MB)\n",
      "Trainable params: 164484 (642.52 KB)\n",
      "Non-trainable params: 2257984 (8.61 MB)\n",
      "_________________________________________________________________\n"
     ]
    }
   ],
   "source": [
    "from models.mri_tumor_classifier.cnn_model import mri_tumor_classifier\n",
    "\n",
    "model = mri_tumor_classifier()\n"
   ]
  },
  {
   "cell_type": "code",
   "execution_count": 190,
   "id": "14182740",
   "metadata": {},
   "outputs": [],
   "source": [
    "from sklearn.utils.class_weight import compute_class_weight\n",
    "import numpy as np\n",
    "\n",
    "class_names = [0, 1, 2, 3]\n",
    "unique_classes = np.unique(train_labels)\n",
    "class_weight = compute_class_weight(class_weight='balanced', classes=unique_classes, y = train_labels)"
   ]
  },
  {
   "cell_type": "code",
   "execution_count": 191,
   "id": "b2f9e847",
   "metadata": {},
   "outputs": [
    {
     "name": "stdout",
     "output_type": "stream",
     "text": [
      "{0: 1.0828835774865073, 1: 1.0672492401215805, 2: 0.999644128113879, 3: 0.8778125}\n"
     ]
    }
   ],
   "source": [
    "class_weight_dict = dict(enumerate(class_weight))\n",
    "print(class_weight_dict)"
   ]
  },
  {
   "cell_type": "code",
   "execution_count": 192,
   "id": "c2564836",
   "metadata": {},
   "outputs": [],
   "source": [
    "model.compile(\n",
    "    optimizer=tf.keras.optimizers.legacy.Adam(1e-3),\n",
    "    loss = 'sparse_categorical_crossentropy',\n",
    "    metrics = ['accuracy']\n",
    ")"
   ]
  },
  {
   "cell_type": "code",
   "execution_count": 193,
   "id": "9759f6bc",
   "metadata": {},
   "outputs": [
    {
     "name": "stdout",
     "output_type": "stream",
     "text": [
      "Epoch 1/5\n",
      "176/176 [==============================] - 37s 187ms/step - loss: 0.5123 - accuracy: 0.8120 - val_loss: 0.2645 - val_accuracy: 0.9003\n",
      "Epoch 2/5\n",
      "176/176 [==============================] - 35s 196ms/step - loss: 0.3059 - accuracy: 0.8841 - val_loss: 0.2127 - val_accuracy: 0.9259\n",
      "Epoch 3/5\n",
      "176/176 [==============================] - 43s 237ms/step - loss: 0.2896 - accuracy: 0.8946 - val_loss: 0.2160 - val_accuracy: 0.9117\n",
      "Epoch 4/5\n",
      "176/176 [==============================] - 52s 285ms/step - loss: 0.2516 - accuracy: 0.9082 - val_loss: 0.2268 - val_accuracy: 0.9145\n",
      "Epoch 5/5\n",
      "176/176 [==============================] - 55s 301ms/step - loss: 0.2321 - accuracy: 0.9156 - val_loss: 0.1550 - val_accuracy: 0.9416\n"
     ]
    }
   ],
   "source": [
    "history_1 = model.fit(\n",
    "    train_ds, validation_data=val_ds, epochs = 5, class_weight=class_weight_dict\n",
    ")"
   ]
  },
  {
   "cell_type": "code",
   "execution_count": 194,
   "id": "f64f1278",
   "metadata": {},
   "outputs": [
    {
     "name": "stdout",
     "output_type": "stream",
     "text": [
      "22/22 [==============================] - 7s 307ms/step - loss: 0.2055 - accuracy: 0.9203\n"
     ]
    },
    {
     "data": {
      "text/plain": [
       "[0.20549143850803375, 0.9203413724899292]"
      ]
     },
     "execution_count": 194,
     "metadata": {},
     "output_type": "execute_result"
    }
   ],
   "source": [
    "model.evaluate(test_ds)"
   ]
  },
  {
   "cell_type": "code",
   "execution_count": null,
   "id": "8cb7a531",
   "metadata": {},
   "outputs": [],
   "source": []
  }
 ],
 "metadata": {
  "kernelspec": {
   "display_name": "Python 3",
   "language": "python",
   "name": "python3"
  },
  "language_info": {
   "codemirror_mode": {
    "name": "ipython",
    "version": 3
   },
   "file_extension": ".py",
   "mimetype": "text/x-python",
   "name": "python",
   "nbconvert_exporter": "python",
   "pygments_lexer": "ipython3",
   "version": "3.11.12"
  }
 },
 "nbformat": 4,
 "nbformat_minor": 5
}
